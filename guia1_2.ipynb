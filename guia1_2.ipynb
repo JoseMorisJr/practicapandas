{
 "cells": [
  {
   "cell_type": "code",
   "execution_count": 36,
   "metadata": {},
   "outputs": [
    {
     "data": {
      "text/html": [
       "<div>\n",
       "<style scoped>\n",
       "    .dataframe tbody tr th:only-of-type {\n",
       "        vertical-align: middle;\n",
       "    }\n",
       "\n",
       "    .dataframe tbody tr th {\n",
       "        vertical-align: top;\n",
       "    }\n",
       "\n",
       "    .dataframe thead th {\n",
       "        text-align: right;\n",
       "    }\n",
       "</style>\n",
       "<table border=\"1\" class=\"dataframe\">\n",
       "  <thead>\n",
       "    <tr style=\"text-align: right;\">\n",
       "      <th></th>\n",
       "      <th>numero</th>\n",
       "      <th>tipo</th>\n",
       "      <th>origen</th>\n",
       "      <th>destino</th>\n",
       "      <th>fecha</th>\n",
       "      <th>hora</th>\n",
       "      <th>monto</th>\n",
       "    </tr>\n",
       "  </thead>\n",
       "  <tbody>\n",
       "    <tr>\n",
       "      <th>0</th>\n",
       "      <td>900</td>\n",
       "      <td>TRANS</td>\n",
       "      <td>A</td>\n",
       "      <td>B</td>\n",
       "      <td>2019</td>\n",
       "      <td>07:00:00 AM</td>\n",
       "      <td>1100</td>\n",
       "    </tr>\n",
       "    <tr>\n",
       "      <th>1</th>\n",
       "      <td>901</td>\n",
       "      <td>TRANS</td>\n",
       "      <td>A</td>\n",
       "      <td>D</td>\n",
       "      <td>2019</td>\n",
       "      <td>08:00:00 AM</td>\n",
       "      <td>1200</td>\n",
       "    </tr>\n",
       "    <tr>\n",
       "      <th>2</th>\n",
       "      <td>902</td>\n",
       "      <td>DEPO</td>\n",
       "      <td>B</td>\n",
       "      <td>C</td>\n",
       "      <td>2018</td>\n",
       "      <td>09:00:00 AM</td>\n",
       "      <td>1300</td>\n",
       "    </tr>\n",
       "    <tr>\n",
       "      <th>3</th>\n",
       "      <td>903</td>\n",
       "      <td>DEPO</td>\n",
       "      <td>B</td>\n",
       "      <td>C</td>\n",
       "      <td>2019</td>\n",
       "      <td>10:00:00 AM</td>\n",
       "      <td>1400</td>\n",
       "    </tr>\n",
       "    <tr>\n",
       "      <th>4</th>\n",
       "      <td>904</td>\n",
       "      <td>TRANS</td>\n",
       "      <td>A</td>\n",
       "      <td>B</td>\n",
       "      <td>2019</td>\n",
       "      <td>11:00:00 AM</td>\n",
       "      <td>10000</td>\n",
       "    </tr>\n",
       "    <tr>\n",
       "      <th>5</th>\n",
       "      <td>905</td>\n",
       "      <td>DEPO</td>\n",
       "      <td>NaN</td>\n",
       "      <td>A</td>\n",
       "      <td>2018</td>\n",
       "      <td>12:00:00 PM</td>\n",
       "      <td>1600</td>\n",
       "    </tr>\n",
       "    <tr>\n",
       "      <th>6</th>\n",
       "      <td>906</td>\n",
       "      <td>EXT</td>\n",
       "      <td>C</td>\n",
       "      <td>A</td>\n",
       "      <td>2018</td>\n",
       "      <td>01:00:00 PM</td>\n",
       "      <td>1700</td>\n",
       "    </tr>\n",
       "    <tr>\n",
       "      <th>7</th>\n",
       "      <td>907</td>\n",
       "      <td>EXT</td>\n",
       "      <td>B</td>\n",
       "      <td>D</td>\n",
       "      <td>2019</td>\n",
       "      <td>02:00:00 PM</td>\n",
       "      <td>1800</td>\n",
       "    </tr>\n",
       "    <tr>\n",
       "      <th>8</th>\n",
       "      <td>908</td>\n",
       "      <td>DEPO</td>\n",
       "      <td>B</td>\n",
       "      <td>C</td>\n",
       "      <td>2019</td>\n",
       "      <td>03:00:00 PM</td>\n",
       "      <td>1900</td>\n",
       "    </tr>\n",
       "    <tr>\n",
       "      <th>9</th>\n",
       "      <td>909</td>\n",
       "      <td>DEPO</td>\n",
       "      <td>NaN</td>\n",
       "      <td>B</td>\n",
       "      <td>2018</td>\n",
       "      <td>04:00:00 PM</td>\n",
       "      <td>2000</td>\n",
       "    </tr>\n",
       "    <tr>\n",
       "      <th>10</th>\n",
       "      <td>910</td>\n",
       "      <td>TRANS</td>\n",
       "      <td>C</td>\n",
       "      <td>B</td>\n",
       "      <td>2019</td>\n",
       "      <td>05:00:00 PM</td>\n",
       "      <td>20000</td>\n",
       "    </tr>\n",
       "    <tr>\n",
       "      <th>11</th>\n",
       "      <td>911</td>\n",
       "      <td>DEPO</td>\n",
       "      <td>D</td>\n",
       "      <td>A</td>\n",
       "      <td>2019</td>\n",
       "      <td>06:00:00 PM</td>\n",
       "      <td>2200</td>\n",
       "    </tr>\n",
       "  </tbody>\n",
       "</table>\n",
       "</div>"
      ],
      "text/plain": [
       "    numero   tipo origen destino  fecha         hora  monto\n",
       "0      900  TRANS      A       B   2019  07:00:00 AM   1100\n",
       "1      901  TRANS      A       D   2019  08:00:00 AM   1200\n",
       "2      902   DEPO      B       C   2018  09:00:00 AM   1300\n",
       "3      903   DEPO      B       C   2019  10:00:00 AM   1400\n",
       "4      904  TRANS      A       B   2019  11:00:00 AM  10000\n",
       "5      905   DEPO    NaN       A   2018  12:00:00 PM   1600\n",
       "6      906    EXT      C       A   2018  01:00:00 PM   1700\n",
       "7      907    EXT      B       D   2019  02:00:00 PM   1800\n",
       "8      908   DEPO      B       C   2019  03:00:00 PM   1900\n",
       "9      909   DEPO    NaN       B   2018  04:00:00 PM   2000\n",
       "10     910  TRANS      C       B   2019  05:00:00 PM  20000\n",
       "11     911   DEPO      D       A   2019  06:00:00 PM   2200"
      ]
     },
     "execution_count": 36,
     "metadata": {},
     "output_type": "execute_result"
    }
   ],
   "source": [
    "import numpy as np\n",
    "import pandas as pd\n",
    "import matplotlib.pyplot as plt\n",
    "\n",
    "df = pd.read_csv(\"transacciones.csv\")\n",
    "df.head(15)"
   ]
  },
  {
   "cell_type": "code",
   "execution_count": 2,
   "metadata": {},
   "outputs": [
    {
     "data": {
      "text/plain": [
       "False"
      ]
     },
     "execution_count": 2,
     "metadata": {},
     "output_type": "execute_result"
    }
   ],
   "source": [
    "#Verificar que ninguno sea null\n",
    "\n",
    "df['tipo'].isnull().any()"
   ]
  },
  {
   "cell_type": "code",
   "execution_count": 3,
   "metadata": {},
   "outputs": [
    {
     "data": {
      "text/plain": [
       "origen      True\n",
       "destino    False\n",
       "dtype: bool"
      ]
     },
     "execution_count": 3,
     "metadata": {},
     "output_type": "execute_result"
    }
   ],
   "source": [
    "#Validar que exista cuenta origen y destino\n",
    "\n",
    "df[['origen', 'destino']].isnull().any()"
   ]
  },
  {
   "cell_type": "code",
   "execution_count": 4,
   "metadata": {},
   "outputs": [
    {
     "data": {
      "text/plain": [
       "False"
      ]
     },
     "execution_count": 4,
     "metadata": {},
     "output_type": "execute_result"
    }
   ],
   "source": [
    "# Verificar que todas las transacciones del tipo transferencia, depósito y extracción cuenten con montos distintos de cero.\n",
    "\n",
    "df.loc[(df.tipo == 'DEPO') | (df.tipo == 'TRANS') | (df.tipo == 'EXT')].tipo.isnull().any()"
   ]
  },
  {
   "cell_type": "code",
   "execution_count": 5,
   "metadata": {},
   "outputs": [
    {
     "data": {
      "text/html": [
       "<div>\n",
       "<style scoped>\n",
       "    .dataframe tbody tr th:only-of-type {\n",
       "        vertical-align: middle;\n",
       "    }\n",
       "\n",
       "    .dataframe tbody tr th {\n",
       "        vertical-align: top;\n",
       "    }\n",
       "\n",
       "    .dataframe thead th {\n",
       "        text-align: right;\n",
       "    }\n",
       "</style>\n",
       "<table border=\"1\" class=\"dataframe\">\n",
       "  <thead>\n",
       "    <tr style=\"text-align: right;\">\n",
       "      <th></th>\n",
       "      <th>numero</th>\n",
       "      <th>tipo</th>\n",
       "      <th>origen</th>\n",
       "      <th>destino</th>\n",
       "      <th>fecha</th>\n",
       "      <th>hora</th>\n",
       "      <th>monto</th>\n",
       "    </tr>\n",
       "  </thead>\n",
       "  <tbody>\n",
       "    <tr>\n",
       "      <th>11</th>\n",
       "      <td>911</td>\n",
       "      <td>DEPO</td>\n",
       "      <td>D</td>\n",
       "      <td>A</td>\n",
       "      <td>2019</td>\n",
       "      <td>06:00:00 PM</td>\n",
       "      <td>2200</td>\n",
       "    </tr>\n",
       "    <tr>\n",
       "      <th>10</th>\n",
       "      <td>910</td>\n",
       "      <td>TRANS</td>\n",
       "      <td>C</td>\n",
       "      <td>B</td>\n",
       "      <td>2019</td>\n",
       "      <td>05:00:00 PM</td>\n",
       "      <td>2100</td>\n",
       "    </tr>\n",
       "    <tr>\n",
       "      <th>9</th>\n",
       "      <td>909</td>\n",
       "      <td>DEPO</td>\n",
       "      <td>NaN</td>\n",
       "      <td>B</td>\n",
       "      <td>2018</td>\n",
       "      <td>04:00:00 PM</td>\n",
       "      <td>2000</td>\n",
       "    </tr>\n",
       "    <tr>\n",
       "      <th>8</th>\n",
       "      <td>908</td>\n",
       "      <td>DEPO</td>\n",
       "      <td>B</td>\n",
       "      <td>C</td>\n",
       "      <td>2019</td>\n",
       "      <td>03:00:00 PM</td>\n",
       "      <td>1900</td>\n",
       "    </tr>\n",
       "    <tr>\n",
       "      <th>7</th>\n",
       "      <td>907</td>\n",
       "      <td>EXT</td>\n",
       "      <td>B</td>\n",
       "      <td>D</td>\n",
       "      <td>2019</td>\n",
       "      <td>02:00:00 PM</td>\n",
       "      <td>1800</td>\n",
       "    </tr>\n",
       "    <tr>\n",
       "      <th>6</th>\n",
       "      <td>906</td>\n",
       "      <td>EXT</td>\n",
       "      <td>C</td>\n",
       "      <td>A</td>\n",
       "      <td>2018</td>\n",
       "      <td>01:00:00 PM</td>\n",
       "      <td>1700</td>\n",
       "    </tr>\n",
       "    <tr>\n",
       "      <th>5</th>\n",
       "      <td>905</td>\n",
       "      <td>DEPO</td>\n",
       "      <td>NaN</td>\n",
       "      <td>A</td>\n",
       "      <td>2018</td>\n",
       "      <td>12:00:00 PM</td>\n",
       "      <td>1600</td>\n",
       "    </tr>\n",
       "    <tr>\n",
       "      <th>4</th>\n",
       "      <td>904</td>\n",
       "      <td>TRANS</td>\n",
       "      <td>A</td>\n",
       "      <td>B</td>\n",
       "      <td>2019</td>\n",
       "      <td>11:00:00 AM</td>\n",
       "      <td>1500</td>\n",
       "    </tr>\n",
       "    <tr>\n",
       "      <th>3</th>\n",
       "      <td>903</td>\n",
       "      <td>DEPO</td>\n",
       "      <td>B</td>\n",
       "      <td>C</td>\n",
       "      <td>2019</td>\n",
       "      <td>10:00:00 AM</td>\n",
       "      <td>1400</td>\n",
       "    </tr>\n",
       "    <tr>\n",
       "      <th>2</th>\n",
       "      <td>902</td>\n",
       "      <td>DEPO</td>\n",
       "      <td>B</td>\n",
       "      <td>C</td>\n",
       "      <td>2018</td>\n",
       "      <td>09:00:00 AM</td>\n",
       "      <td>1300</td>\n",
       "    </tr>\n",
       "  </tbody>\n",
       "</table>\n",
       "</div>"
      ],
      "text/plain": [
       "    numero   tipo origen destino  fecha         hora  monto\n",
       "11     911   DEPO      D       A   2019  06:00:00 PM   2200\n",
       "10     910  TRANS      C       B   2019  05:00:00 PM   2100\n",
       "9      909   DEPO    NaN       B   2018  04:00:00 PM   2000\n",
       "8      908   DEPO      B       C   2019  03:00:00 PM   1900\n",
       "7      907    EXT      B       D   2019  02:00:00 PM   1800\n",
       "6      906    EXT      C       A   2018  01:00:00 PM   1700\n",
       "5      905   DEPO    NaN       A   2018  12:00:00 PM   1600\n",
       "4      904  TRANS      A       B   2019  11:00:00 AM   1500\n",
       "3      903   DEPO      B       C   2019  10:00:00 AM   1400\n",
       "2      902   DEPO      B       C   2018  09:00:00 AM   1300"
      ]
     },
     "execution_count": 5,
     "metadata": {},
     "output_type": "execute_result"
    }
   ],
   "source": [
    "# Indicar cuáles fueron las 10 transacciones de mayor monto.\n",
    "\n",
    "df.sort_values('monto', ascending = False).head(10)"
   ]
  },
  {
   "cell_type": "code",
   "execution_count": 6,
   "metadata": {},
   "outputs": [
    {
     "data": {
      "text/plain": [
       "tipo\n",
       "DEPO     1733.333333\n",
       "EXT      1750.000000\n",
       "TRANS    1475.000000\n",
       "Name: monto, dtype: float64"
      ]
     },
     "execution_count": 6,
     "metadata": {},
     "output_type": "execute_result"
    }
   ],
   "source": [
    "#Indicar cuál es el tipo de transacción que registra mayor monto promedio.\n",
    "\n",
    "# Agrupo por tipo __ Solo quiero promedio del monto\n",
    "df.groupby('tipo')['monto'].mean()"
   ]
  },
  {
   "cell_type": "code",
   "execution_count": 37,
   "metadata": {},
   "outputs": [
    {
     "data": {
      "text/html": [
       "<div>\n",
       "<style scoped>\n",
       "    .dataframe tbody tr th:only-of-type {\n",
       "        vertical-align: middle;\n",
       "    }\n",
       "\n",
       "    .dataframe tbody tr th {\n",
       "        vertical-align: top;\n",
       "    }\n",
       "\n",
       "    .dataframe thead th {\n",
       "        text-align: right;\n",
       "    }\n",
       "</style>\n",
       "<table border=\"1\" class=\"dataframe\">\n",
       "  <thead>\n",
       "    <tr style=\"text-align: right;\">\n",
       "      <th></th>\n",
       "      <th>origen</th>\n",
       "      <th>cantidad_transacciones</th>\n",
       "    </tr>\n",
       "  </thead>\n",
       "  <tbody>\n",
       "    <tr>\n",
       "      <th>1</th>\n",
       "      <td>B</td>\n",
       "      <td>4</td>\n",
       "    </tr>\n",
       "    <tr>\n",
       "      <th>0</th>\n",
       "      <td>A</td>\n",
       "      <td>3</td>\n",
       "    </tr>\n",
       "    <tr>\n",
       "      <th>2</th>\n",
       "      <td>C</td>\n",
       "      <td>2</td>\n",
       "    </tr>\n",
       "    <tr>\n",
       "      <th>3</th>\n",
       "      <td>D</td>\n",
       "      <td>1</td>\n",
       "    </tr>\n",
       "  </tbody>\n",
       "</table>\n",
       "</div>"
      ],
      "text/plain": [
       "  origen  cantidad_transacciones\n",
       "1      B                       4\n",
       "0      A                       3\n",
       "2      C                       2\n",
       "3      D                       1"
      ]
     },
     "execution_count": 37,
     "metadata": {},
     "output_type": "execute_result"
    }
   ],
   "source": [
    "#Indicar cuáles son las 5 cuentas con mayor cantidad de transacciones\n",
    "\n",
    "#Cuento por tipo pero podria ser cualquier otra columna\n",
    "transacciones_por_cuenta = df.groupby('origen')['tipo'].count().reset_index()\n",
    "transacciones_por_cuenta.rename(columns = {'tipo' : 'cantidad_transacciones'}, inplace=True)\n",
    "transacciones_por_cuenta.sort_values('cantidad_transacciones', ascending = False, inplace=True)\n",
    "transacciones_por_cuenta.head(5)"
   ]
  },
  {
   "cell_type": "code",
   "execution_count": 38,
   "metadata": {},
   "outputs": [
    {
     "data": {
      "text/html": [
       "<div>\n",
       "<style scoped>\n",
       "    .dataframe tbody tr th:only-of-type {\n",
       "        vertical-align: middle;\n",
       "    }\n",
       "\n",
       "    .dataframe tbody tr th {\n",
       "        vertical-align: top;\n",
       "    }\n",
       "\n",
       "    .dataframe thead th {\n",
       "        text-align: right;\n",
       "    }\n",
       "</style>\n",
       "<table border=\"1\" class=\"dataframe\">\n",
       "  <thead>\n",
       "    <tr style=\"text-align: right;\">\n",
       "      <th></th>\n",
       "      <th>cuenta</th>\n",
       "      <th>monto</th>\n",
       "    </tr>\n",
       "  </thead>\n",
       "  <tbody>\n",
       "    <tr>\n",
       "      <th>2</th>\n",
       "      <td>C</td>\n",
       "      <td>21700</td>\n",
       "    </tr>\n",
       "    <tr>\n",
       "      <th>0</th>\n",
       "      <td>A</td>\n",
       "      <td>12300</td>\n",
       "    </tr>\n",
       "    <tr>\n",
       "      <th>1</th>\n",
       "      <td>B</td>\n",
       "      <td>6400</td>\n",
       "    </tr>\n",
       "    <tr>\n",
       "      <th>3</th>\n",
       "      <td>D</td>\n",
       "      <td>2200</td>\n",
       "    </tr>\n",
       "  </tbody>\n",
       "</table>\n",
       "</div>"
      ],
      "text/plain": [
       "  cuenta  monto\n",
       "2      C  21700\n",
       "0      A  12300\n",
       "1      B   6400\n",
       "3      D   2200"
      ]
     },
     "execution_count": 38,
     "metadata": {},
     "output_type": "execute_result"
    }
   ],
   "source": [
    "monto_por_cuenta_origen = df.groupby('origen')['monto'].agg(np.sum).reset_index()\n",
    "monto_por_cuenta_origen.sort_values('monto', ascending = False, inplace= True)\n",
    "monto_por_cuenta_origen.rename(columns = {'origen' : 'cuenta'}, inplace=True)\n",
    "monto_por_cuenta_origen.head(5)"
   ]
  },
  {
   "cell_type": "code",
   "execution_count": 39,
   "metadata": {},
   "outputs": [
    {
     "data": {
      "text/html": [
       "<div>\n",
       "<style scoped>\n",
       "    .dataframe tbody tr th:only-of-type {\n",
       "        vertical-align: middle;\n",
       "    }\n",
       "\n",
       "    .dataframe tbody tr th {\n",
       "        vertical-align: top;\n",
       "    }\n",
       "\n",
       "    .dataframe thead th {\n",
       "        text-align: right;\n",
       "    }\n",
       "</style>\n",
       "<table border=\"1\" class=\"dataframe\">\n",
       "  <thead>\n",
       "    <tr style=\"text-align: right;\">\n",
       "      <th></th>\n",
       "      <th>cuenta</th>\n",
       "      <th>monto</th>\n",
       "    </tr>\n",
       "  </thead>\n",
       "  <tbody>\n",
       "    <tr>\n",
       "      <th>1</th>\n",
       "      <td>B</td>\n",
       "      <td>33100</td>\n",
       "    </tr>\n",
       "    <tr>\n",
       "      <th>0</th>\n",
       "      <td>A</td>\n",
       "      <td>5500</td>\n",
       "    </tr>\n",
       "    <tr>\n",
       "      <th>2</th>\n",
       "      <td>C</td>\n",
       "      <td>4600</td>\n",
       "    </tr>\n",
       "    <tr>\n",
       "      <th>3</th>\n",
       "      <td>D</td>\n",
       "      <td>3000</td>\n",
       "    </tr>\n",
       "  </tbody>\n",
       "</table>\n",
       "</div>"
      ],
      "text/plain": [
       "  cuenta  monto\n",
       "1      B  33100\n",
       "0      A   5500\n",
       "2      C   4600\n",
       "3      D   3000"
      ]
     },
     "execution_count": 39,
     "metadata": {},
     "output_type": "execute_result"
    }
   ],
   "source": [
    "monto_por_cuenta_destino = df.groupby('destino')['monto'].agg(np.sum).reset_index()\n",
    "monto_por_cuenta_destino.sort_values('monto', ascending = False, inplace= True)\n",
    "monto_por_cuenta_destino.rename(columns = {'destino' : 'cuenta'}, inplace=True)\n",
    "monto_por_cuenta_destino.head(5)"
   ]
  },
  {
   "cell_type": "code",
   "execution_count": 40,
   "metadata": {},
   "outputs": [
    {
     "data": {
      "text/html": [
       "<div>\n",
       "<style scoped>\n",
       "    .dataframe tbody tr th:only-of-type {\n",
       "        vertical-align: middle;\n",
       "    }\n",
       "\n",
       "    .dataframe tbody tr th {\n",
       "        vertical-align: top;\n",
       "    }\n",
       "\n",
       "    .dataframe thead th {\n",
       "        text-align: right;\n",
       "    }\n",
       "</style>\n",
       "<table border=\"1\" class=\"dataframe\">\n",
       "  <thead>\n",
       "    <tr style=\"text-align: right;\">\n",
       "      <th></th>\n",
       "      <th>cuenta</th>\n",
       "      <th>monto involucrado</th>\n",
       "    </tr>\n",
       "  </thead>\n",
       "  <tbody>\n",
       "    <tr>\n",
       "      <th>2</th>\n",
       "      <td>B</td>\n",
       "      <td>39500</td>\n",
       "    </tr>\n",
       "    <tr>\n",
       "      <th>0</th>\n",
       "      <td>C</td>\n",
       "      <td>26300</td>\n",
       "    </tr>\n",
       "    <tr>\n",
       "      <th>1</th>\n",
       "      <td>A</td>\n",
       "      <td>17800</td>\n",
       "    </tr>\n",
       "    <tr>\n",
       "      <th>3</th>\n",
       "      <td>D</td>\n",
       "      <td>5200</td>\n",
       "    </tr>\n",
       "  </tbody>\n",
       "</table>\n",
       "</div>"
      ],
      "text/plain": [
       "  cuenta  monto involucrado\n",
       "2      B              39500\n",
       "0      C              26300\n",
       "1      A              17800\n",
       "3      D               5200"
      ]
     },
     "execution_count": 40,
     "metadata": {},
     "output_type": "execute_result"
    }
   ],
   "source": [
    "montos_por_cuenta = pd.merge(monto_por_cuenta_origen, monto_por_cuenta_destino, on='cuenta', how='inner')\n",
    "montos_por_cuenta['monto involucrado'] = montos_por_cuenta['monto_x'] + montos_por_cuenta['monto_y']\n",
    "montos_por_cuenta.sort_values('monto involucrado', ascending = False, inplace = True)\n",
    "del montos_por_cuenta['monto_x']\n",
    "del montos_por_cuenta['monto_y']\n",
    "montos_por_cuenta.head(6)"
   ]
  },
  {
   "cell_type": "code",
   "execution_count": 58,
   "metadata": {},
   "outputs": [
    {
     "data": {
      "text/plain": [
       "'TRANS'"
      ]
     },
     "execution_count": 58,
     "metadata": {},
     "output_type": "execute_result"
    }
   ],
   "source": [
    "#Para el tipo de transacción con mayor cantidad de monto promedio, indicar cuales son \n",
    "# las 5 cuentas con más transacciones.\n",
    "\n",
    "\n",
    "#Primero veo transaccion con mayor monto promedio\n",
    "\n",
    "df1 = df.groupby('tipo')['monto'].agg(np.mean).reset_index()\n",
    "df1.sort_values('monto', ascending = False, inplace = True)\n",
    "tipo_max = df1.iloc[0, 0]\n",
    "tipo_max"
   ]
  },
  {
   "cell_type": "code",
   "execution_count": 83,
   "metadata": {},
   "outputs": [
    {
     "data": {
      "text/plain": [
       "'A'"
      ]
     },
     "execution_count": 83,
     "metadata": {},
     "output_type": "execute_result"
    }
   ],
   "source": [
    "#Ahora busco para ese tipo las 5 cuentas con mayor transacciones de este\n",
    "\n",
    "\n",
    "#Crosstab genera una tabla de 2 parametros donde JUSTAMENTE mide la frecuencia, gracias Martin\n",
    "df1 = pd.crosstab(df.origen, df.tipo)\n",
    "df1.loc[:,'TRANS'].idxmax()"
   ]
  },
  {
   "cell_type": "code",
   "execution_count": null,
   "metadata": {},
   "outputs": [],
   "source": []
  }
 ],
 "metadata": {
  "kernelspec": {
   "display_name": "Python 2",
   "language": "python",
   "name": "python2"
  },
  "language_info": {
   "codemirror_mode": {
    "name": "ipython",
    "version": 2
   },
   "file_extension": ".py",
   "mimetype": "text/x-python",
   "name": "python",
   "nbconvert_exporter": "python",
   "pygments_lexer": "ipython2",
   "version": "2.7.15+"
  }
 },
 "nbformat": 4,
 "nbformat_minor": 2
}
