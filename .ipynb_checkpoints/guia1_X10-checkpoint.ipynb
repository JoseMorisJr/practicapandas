{
 "cells": [
  {
   "cell_type": "code",
   "execution_count": 30,
   "metadata": {},
   "outputs": [],
   "source": [
    "import numpy as np\n",
    "import pandas as pd\n",
    "import matplotlib.pyplot as plt\n",
    "\n",
    "diario = pd.read_csv(\"nyse_daily.csv\")\n",
    "sp = pd.read_csv(\"s&p_500.csv\")"
   ]
  },
  {
   "cell_type": "code",
   "execution_count": 31,
   "metadata": {},
   "outputs": [
    {
     "data": {
      "text/html": [
       "<div>\n",
       "<style scoped>\n",
       "    .dataframe tbody tr th:only-of-type {\n",
       "        vertical-align: middle;\n",
       "    }\n",
       "\n",
       "    .dataframe tbody tr th {\n",
       "        vertical-align: top;\n",
       "    }\n",
       "\n",
       "    .dataframe thead th {\n",
       "        text-align: right;\n",
       "    }\n",
       "</style>\n",
       "<table border=\"1\" class=\"dataframe\">\n",
       "  <thead>\n",
       "    <tr style=\"text-align: right;\">\n",
       "      <th></th>\n",
       "      <th>symbol</th>\n",
       "      <th>date</th>\n",
       "      <th>open</th>\n",
       "      <th>measure_midday</th>\n",
       "      <th>measure_afternoon</th>\n",
       "      <th>close</th>\n",
       "      <th>volume</th>\n",
       "    </tr>\n",
       "  </thead>\n",
       "  <tbody>\n",
       "    <tr>\n",
       "      <th>0</th>\n",
       "      <td>NASDAQ</td>\n",
       "      <td>09/21/19</td>\n",
       "      <td>1000.0</td>\n",
       "      <td>1101.0</td>\n",
       "      <td>1200.0</td>\n",
       "      <td>1300.0</td>\n",
       "      <td>100</td>\n",
       "    </tr>\n",
       "    <tr>\n",
       "      <th>1</th>\n",
       "      <td>MERVAL</td>\n",
       "      <td>09/21/19</td>\n",
       "      <td>2000.0</td>\n",
       "      <td>2021.0</td>\n",
       "      <td>2000.0</td>\n",
       "      <td>1980.0</td>\n",
       "      <td>200</td>\n",
       "    </tr>\n",
       "    <tr>\n",
       "      <th>2</th>\n",
       "      <td>APPLE</td>\n",
       "      <td>09/21/19</td>\n",
       "      <td>3000.0</td>\n",
       "      <td>3042.0</td>\n",
       "      <td>3050.0</td>\n",
       "      <td>3045.0</td>\n",
       "      <td>300</td>\n",
       "    </tr>\n",
       "    <tr>\n",
       "      <th>3</th>\n",
       "      <td>FBOOK</td>\n",
       "      <td>09/21/19</td>\n",
       "      <td>4000.0</td>\n",
       "      <td>4021.0</td>\n",
       "      <td>4012.0</td>\n",
       "      <td>4011.0</td>\n",
       "      <td>100</td>\n",
       "    </tr>\n",
       "    <tr>\n",
       "      <th>4</th>\n",
       "      <td>ML</td>\n",
       "      <td>09/21/19</td>\n",
       "      <td>5000.0</td>\n",
       "      <td>5055.0</td>\n",
       "      <td>5010.0</td>\n",
       "      <td>5009.0</td>\n",
       "      <td>200</td>\n",
       "    </tr>\n",
       "  </tbody>\n",
       "</table>\n",
       "</div>"
      ],
      "text/plain": [
       "   symbol      date    open  measure_midday  measure_afternoon   close  volume\n",
       "0  NASDAQ  09/21/19  1000.0          1101.0             1200.0  1300.0     100\n",
       "1  MERVAL  09/21/19  2000.0          2021.0             2000.0  1980.0     200\n",
       "2   APPLE  09/21/19  3000.0          3042.0             3050.0  3045.0     300\n",
       "3   FBOOK  09/21/19  4000.0          4021.0             4012.0  4011.0     100\n",
       "4      ML  09/21/19  5000.0          5055.0             5010.0  5009.0     200"
      ]
     },
     "execution_count": 31,
     "metadata": {},
     "output_type": "execute_result"
    }
   ],
   "source": [
    "diario.head()"
   ]
  },
  {
   "cell_type": "code",
   "execution_count": 32,
   "metadata": {},
   "outputs": [
    {
     "data": {
      "text/html": [
       "<div>\n",
       "<style scoped>\n",
       "    .dataframe tbody tr th:only-of-type {\n",
       "        vertical-align: middle;\n",
       "    }\n",
       "\n",
       "    .dataframe tbody tr th {\n",
       "        vertical-align: top;\n",
       "    }\n",
       "\n",
       "    .dataframe thead th {\n",
       "        text-align: right;\n",
       "    }\n",
       "</style>\n",
       "<table border=\"1\" class=\"dataframe\">\n",
       "  <thead>\n",
       "    <tr style=\"text-align: right;\">\n",
       "      <th></th>\n",
       "      <th>symbol</th>\n",
       "      <th>company_name</th>\n",
       "    </tr>\n",
       "  </thead>\n",
       "  <tbody>\n",
       "    <tr>\n",
       "      <th>0</th>\n",
       "      <td>ML</td>\n",
       "      <td>MercadoLibre</td>\n",
       "    </tr>\n",
       "    <tr>\n",
       "      <th>1</th>\n",
       "      <td>MERVAL</td>\n",
       "      <td>Mercado de Valores</td>\n",
       "    </tr>\n",
       "    <tr>\n",
       "      <th>2</th>\n",
       "      <td>NASDAQ</td>\n",
       "      <td>Nasdaq</td>\n",
       "    </tr>\n",
       "  </tbody>\n",
       "</table>\n",
       "</div>"
      ],
      "text/plain": [
       "   symbol        company_name\n",
       "0      ML        MercadoLibre\n",
       "1  MERVAL  Mercado de Valores\n",
       "2  NASDAQ              Nasdaq"
      ]
     },
     "execution_count": 32,
     "metadata": {},
     "output_type": "execute_result"
    }
   ],
   "source": [
    "sp.head()"
   ]
  },
  {
   "cell_type": "code",
   "execution_count": 48,
   "metadata": {},
   "outputs": [],
   "source": [
    "diario['avg'] = (diario['open'] + diario['measure_midday'] + diario['measure_afternoon'] + diario['close']) / 4"
   ]
  },
  {
   "cell_type": "code",
   "execution_count": 54,
   "metadata": {},
   "outputs": [
    {
     "data": {
      "text/html": [
       "<div>\n",
       "<style scoped>\n",
       "    .dataframe tbody tr th:only-of-type {\n",
       "        vertical-align: middle;\n",
       "    }\n",
       "\n",
       "    .dataframe tbody tr th {\n",
       "        vertical-align: top;\n",
       "    }\n",
       "\n",
       "    .dataframe thead th {\n",
       "        text-align: right;\n",
       "    }\n",
       "</style>\n",
       "<table border=\"1\" class=\"dataframe\">\n",
       "  <thead>\n",
       "    <tr style=\"text-align: right;\">\n",
       "      <th></th>\n",
       "      <th>symbol</th>\n",
       "      <th>date</th>\n",
       "      <th>avg</th>\n",
       "      <th>company_name</th>\n",
       "    </tr>\n",
       "  </thead>\n",
       "  <tbody>\n",
       "    <tr>\n",
       "      <th>0</th>\n",
       "      <td>NASDAQ</td>\n",
       "      <td>09/21/19</td>\n",
       "      <td>1150.2500</td>\n",
       "      <td>Nasdaq</td>\n",
       "    </tr>\n",
       "    <tr>\n",
       "      <th>3</th>\n",
       "      <td>MERVAL</td>\n",
       "      <td>09/21/19</td>\n",
       "      <td>2000.2500</td>\n",
       "      <td>Mercado de Valores</td>\n",
       "    </tr>\n",
       "    <tr>\n",
       "      <th>6</th>\n",
       "      <td>ML</td>\n",
       "      <td>09/21/19</td>\n",
       "      <td>5018.5000</td>\n",
       "      <td>MercadoLibre</td>\n",
       "    </tr>\n",
       "    <tr>\n",
       "      <th>1</th>\n",
       "      <td>NASDAQ</td>\n",
       "      <td>09/22/19</td>\n",
       "      <td>1361.1000</td>\n",
       "      <td>Nasdaq</td>\n",
       "    </tr>\n",
       "    <tr>\n",
       "      <th>4</th>\n",
       "      <td>MERVAL</td>\n",
       "      <td>09/22/19</td>\n",
       "      <td>2073.0600</td>\n",
       "      <td>Mercado de Valores</td>\n",
       "    </tr>\n",
       "    <tr>\n",
       "      <th>7</th>\n",
       "      <td>ML</td>\n",
       "      <td>09/22/19</td>\n",
       "      <td>5244.4230</td>\n",
       "      <td>MercadoLibre</td>\n",
       "    </tr>\n",
       "    <tr>\n",
       "      <th>2</th>\n",
       "      <td>NASDAQ</td>\n",
       "      <td>09/23/19</td>\n",
       "      <td>1191.1250</td>\n",
       "      <td>Nasdaq</td>\n",
       "    </tr>\n",
       "    <tr>\n",
       "      <th>5</th>\n",
       "      <td>MERVAL</td>\n",
       "      <td>09/23/19</td>\n",
       "      <td>2007.8250</td>\n",
       "      <td>Mercado de Valores</td>\n",
       "    </tr>\n",
       "    <tr>\n",
       "      <th>8</th>\n",
       "      <td>ML</td>\n",
       "      <td>09/23/19</td>\n",
       "      <td>5039.1475</td>\n",
       "      <td>MercadoLibre</td>\n",
       "    </tr>\n",
       "  </tbody>\n",
       "</table>\n",
       "</div>"
      ],
      "text/plain": [
       "   symbol      date        avg        company_name\n",
       "0  NASDAQ  09/21/19  1150.2500              Nasdaq\n",
       "3  MERVAL  09/21/19  2000.2500  Mercado de Valores\n",
       "6      ML  09/21/19  5018.5000        MercadoLibre\n",
       "1  NASDAQ  09/22/19  1361.1000              Nasdaq\n",
       "4  MERVAL  09/22/19  2073.0600  Mercado de Valores\n",
       "7      ML  09/22/19  5244.4230        MercadoLibre\n",
       "2  NASDAQ  09/23/19  1191.1250              Nasdaq\n",
       "5  MERVAL  09/23/19  2007.8250  Mercado de Valores\n",
       "8      ML  09/23/19  5039.1475        MercadoLibre"
      ]
     },
     "execution_count": 54,
     "metadata": {},
     "output_type": "execute_result"
    }
   ],
   "source": [
    "diario_reducido = diario.loc[:, ['symbol','date','avg']]\n",
    "sp500daily = pd.merge(diario_reducido, sp, on = 'symbol', how = 'inner')\n",
    "sp500daily.sort_values('date', ascending = True)"
   ]
  },
  {
   "cell_type": "code",
   "execution_count": null,
   "metadata": {},
   "outputs": [],
   "source": [
    "#######################################################################\n",
    "#     SI LO QUE PEDIAN ERA PROMEDIO DE TODAS AQUELLAS EN S&P POR DIA  #\n",
    "#######################################################################"
   ]
  },
  {
   "cell_type": "code",
   "execution_count": 55,
   "metadata": {},
   "outputs": [],
   "source": [
    "# Me quedo con las que estan en el listado sp\n",
    "diario_sp = pd.merge(diario, sp, on = 'symbol', how = 'inner')\n",
    "\n",
    "# Saco el promedio por simbolo para cada fecha\n",
    "diario_sp['avg'] = (diario_sp['open'] + diario_sp['measure_midday'] +\\\n",
    "                    diario['measure_afternoon'] + diario['close']) / 4\n",
    "\n",
    "# Me quedo con promedio, simbolo y fecha\n",
    "diario_sp.drop(columns = ['open', 'measure_midday', 'measure_afternoon', 'close', 'volume'], inplace = True)"
   ]
  },
  {
   "cell_type": "code",
   "execution_count": 59,
   "metadata": {},
   "outputs": [],
   "source": [
    "sp500 = diario_sp.groupby('date')['avg'].agg(np.mean).reset_index()"
   ]
  },
  {
   "cell_type": "code",
   "execution_count": 60,
   "metadata": {},
   "outputs": [
    {
     "data": {
      "text/html": [
       "<div>\n",
       "<style scoped>\n",
       "    .dataframe tbody tr th:only-of-type {\n",
       "        vertical-align: middle;\n",
       "    }\n",
       "\n",
       "    .dataframe tbody tr th {\n",
       "        vertical-align: top;\n",
       "    }\n",
       "\n",
       "    .dataframe thead th {\n",
       "        text-align: right;\n",
       "    }\n",
       "</style>\n",
       "<table border=\"1\" class=\"dataframe\">\n",
       "  <thead>\n",
       "    <tr style=\"text-align: right;\">\n",
       "      <th></th>\n",
       "      <th>date</th>\n",
       "      <th>avg</th>\n",
       "    </tr>\n",
       "  </thead>\n",
       "  <tbody>\n",
       "    <tr>\n",
       "      <th>0</th>\n",
       "      <td>09/21/19</td>\n",
       "      <td>3386.750000</td>\n",
       "    </tr>\n",
       "    <tr>\n",
       "      <th>1</th>\n",
       "      <td>09/22/19</td>\n",
       "      <td>2843.358333</td>\n",
       "    </tr>\n",
       "    <tr>\n",
       "      <th>2</th>\n",
       "      <td>09/23/19</td>\n",
       "      <td>3234.260833</td>\n",
       "    </tr>\n",
       "  </tbody>\n",
       "</table>\n",
       "</div>"
      ],
      "text/plain": [
       "       date          avg\n",
       "0  09/21/19  3386.750000\n",
       "1  09/22/19  2843.358333\n",
       "2  09/23/19  3234.260833"
      ]
     },
     "execution_count": 60,
     "metadata": {},
     "output_type": "execute_result"
    }
   ],
   "source": [
    "sp500.head()"
   ]
  },
  {
   "cell_type": "code",
   "execution_count": null,
   "metadata": {},
   "outputs": [],
   "source": []
  }
 ],
 "metadata": {
  "kernelspec": {
   "display_name": "Python 3",
   "language": "python",
   "name": "python3"
  },
  "language_info": {
   "codemirror_mode": {
    "name": "ipython",
    "version": 3
   },
   "file_extension": ".py",
   "mimetype": "text/x-python",
   "name": "python",
   "nbconvert_exporter": "python",
   "pygments_lexer": "ipython3",
   "version": "3.7.3"
  }
 },
 "nbformat": 4,
 "nbformat_minor": 4
}
