{
 "cells": [
  {
   "cell_type": "code",
   "execution_count": 61,
   "metadata": {},
   "outputs": [],
   "source": [
    "import numpy as np\n",
    "import pandas as pd\n",
    "import matplotlib.pyplot as plt\n",
    "\n",
    "df1 = pd.read_csv(\"encuesta.csv\")\n",
    "df2 = pd.read_csv(\"hospitales.csv\")"
   ]
  },
  {
   "cell_type": "code",
   "execution_count": 62,
   "metadata": {},
   "outputs": [
    {
     "data": {
      "text/html": [
       "<div>\n",
       "<style scoped>\n",
       "    .dataframe tbody tr th:only-of-type {\n",
       "        vertical-align: middle;\n",
       "    }\n",
       "\n",
       "    .dataframe tbody tr th {\n",
       "        vertical-align: top;\n",
       "    }\n",
       "\n",
       "    .dataframe thead th {\n",
       "        text-align: right;\n",
       "    }\n",
       "</style>\n",
       "<table border=\"1\" class=\"dataframe\">\n",
       "  <thead>\n",
       "    <tr style=\"text-align: right;\">\n",
       "      <th></th>\n",
       "      <th>dia_nac</th>\n",
       "      <th>mes_nac</th>\n",
       "      <th>anio_nac</th>\n",
       "      <th>peso_nac</th>\n",
       "      <th>long_nac</th>\n",
       "      <th>id_hospital</th>\n",
       "      <th>tipo_parto</th>\n",
       "    </tr>\n",
       "  </thead>\n",
       "  <tbody>\n",
       "    <tr>\n",
       "      <th>0</th>\n",
       "      <td>10</td>\n",
       "      <td>9</td>\n",
       "      <td>2017</td>\n",
       "      <td>2500</td>\n",
       "      <td>30</td>\n",
       "      <td>A</td>\n",
       "      <td>1</td>\n",
       "    </tr>\n",
       "    <tr>\n",
       "      <th>1</th>\n",
       "      <td>11</td>\n",
       "      <td>9</td>\n",
       "      <td>2017</td>\n",
       "      <td>3000</td>\n",
       "      <td>31</td>\n",
       "      <td>B</td>\n",
       "      <td>1</td>\n",
       "    </tr>\n",
       "    <tr>\n",
       "      <th>2</th>\n",
       "      <td>9</td>\n",
       "      <td>9</td>\n",
       "      <td>2016</td>\n",
       "      <td>2700</td>\n",
       "      <td>35</td>\n",
       "      <td>C</td>\n",
       "      <td>2</td>\n",
       "    </tr>\n",
       "    <tr>\n",
       "      <th>3</th>\n",
       "      <td>5</td>\n",
       "      <td>9</td>\n",
       "      <td>2016</td>\n",
       "      <td>1800</td>\n",
       "      <td>37</td>\n",
       "      <td>C</td>\n",
       "      <td>1</td>\n",
       "    </tr>\n",
       "    <tr>\n",
       "      <th>4</th>\n",
       "      <td>3</td>\n",
       "      <td>9</td>\n",
       "      <td>2017</td>\n",
       "      <td>2501</td>\n",
       "      <td>30</td>\n",
       "      <td>B</td>\n",
       "      <td>1</td>\n",
       "    </tr>\n",
       "  </tbody>\n",
       "</table>\n",
       "</div>"
      ],
      "text/plain": [
       "   dia_nac  mes_nac  anio_nac  peso_nac  long_nac id_hospital  tipo_parto\n",
       "0       10        9      2017      2500        30           A           1\n",
       "1       11        9      2017      3000        31           B           1\n",
       "2        9        9      2016      2700        35           C           2\n",
       "3        5        9      2016      1800        37           C           1\n",
       "4        3        9      2017      2501        30           B           1"
      ]
     },
     "execution_count": 62,
     "metadata": {},
     "output_type": "execute_result"
    }
   ],
   "source": [
    "df1.head()"
   ]
  },
  {
   "cell_type": "code",
   "execution_count": 63,
   "metadata": {},
   "outputs": [
    {
     "data": {
      "text/html": [
       "<div>\n",
       "<style scoped>\n",
       "    .dataframe tbody tr th:only-of-type {\n",
       "        vertical-align: middle;\n",
       "    }\n",
       "\n",
       "    .dataframe tbody tr th {\n",
       "        vertical-align: top;\n",
       "    }\n",
       "\n",
       "    .dataframe thead th {\n",
       "        text-align: right;\n",
       "    }\n",
       "</style>\n",
       "<table border=\"1\" class=\"dataframe\">\n",
       "  <thead>\n",
       "    <tr style=\"text-align: right;\">\n",
       "      <th></th>\n",
       "      <th>id_hospital</th>\n",
       "      <th>direccion</th>\n",
       "      <th>promedio_nac_mensual</th>\n",
       "    </tr>\n",
       "  </thead>\n",
       "  <tbody>\n",
       "    <tr>\n",
       "      <th>0</th>\n",
       "      <td>A</td>\n",
       "      <td>stream karma</td>\n",
       "      <td>3.4</td>\n",
       "    </tr>\n",
       "    <tr>\n",
       "      <th>1</th>\n",
       "      <td>B</td>\n",
       "      <td>stream superstar</td>\n",
       "      <td>3.6</td>\n",
       "    </tr>\n",
       "    <tr>\n",
       "      <th>2</th>\n",
       "      <td>C</td>\n",
       "      <td>stream marina</td>\n",
       "      <td>2.3</td>\n",
       "    </tr>\n",
       "  </tbody>\n",
       "</table>\n",
       "</div>"
      ],
      "text/plain": [
       "  id_hospital         direccion  promedio_nac_mensual\n",
       "0           A      stream karma                   3.4\n",
       "1           B  stream superstar                   3.6\n",
       "2           C     stream marina                   2.3"
      ]
     },
     "execution_count": 63,
     "metadata": {},
     "output_type": "execute_result"
    }
   ],
   "source": [
    "df2.head()"
   ]
  },
  {
   "cell_type": "code",
   "execution_count": 64,
   "metadata": {},
   "outputs": [
    {
     "data": {
      "text/html": [
       "<div>\n",
       "<style scoped>\n",
       "    .dataframe tbody tr th:only-of-type {\n",
       "        vertical-align: middle;\n",
       "    }\n",
       "\n",
       "    .dataframe tbody tr th {\n",
       "        vertical-align: top;\n",
       "    }\n",
       "\n",
       "    .dataframe thead th {\n",
       "        text-align: right;\n",
       "    }\n",
       "</style>\n",
       "<table border=\"1\" class=\"dataframe\">\n",
       "  <thead>\n",
       "    <tr style=\"text-align: right;\">\n",
       "      <th></th>\n",
       "      <th>id_hospital</th>\n",
       "      <th>partos_oct_2017</th>\n",
       "      <th>direccion</th>\n",
       "      <th>promedio_nac_mensual</th>\n",
       "    </tr>\n",
       "  </thead>\n",
       "  <tbody>\n",
       "    <tr>\n",
       "      <th>0</th>\n",
       "      <td>A</td>\n",
       "      <td>3</td>\n",
       "      <td>stream karma</td>\n",
       "      <td>3.4</td>\n",
       "    </tr>\n",
       "    <tr>\n",
       "      <th>1</th>\n",
       "      <td>B</td>\n",
       "      <td>10</td>\n",
       "      <td>stream superstar</td>\n",
       "      <td>3.6</td>\n",
       "    </tr>\n",
       "    <tr>\n",
       "      <th>2</th>\n",
       "      <td>C</td>\n",
       "      <td>3</td>\n",
       "      <td>stream marina</td>\n",
       "      <td>2.3</td>\n",
       "    </tr>\n",
       "  </tbody>\n",
       "</table>\n",
       "</div>"
      ],
      "text/plain": [
       "  id_hospital  partos_oct_2017         direccion  promedio_nac_mensual\n",
       "0           A                3      stream karma                   3.4\n",
       "1           B               10  stream superstar                   3.6\n",
       "2           C                3     stream marina                   2.3"
      ]
     },
     "execution_count": 64,
     "metadata": {},
     "output_type": "execute_result"
    }
   ],
   "source": [
    "# Calcular la cantidad de nacimientos para cada uno de los hospitales para el mes de\n",
    "# Octubre de 2017 e indicar aquellos hospitales que superan el promedio de nacimientos\n",
    "# mensuales.\n",
    "\n",
    "#Limpio solo aquellos nacimientos dados en octubre 2017\n",
    "df3 = df1.loc[(df1['mes_nac'] == 9) & (df1['anio_nac'] == 2017)]\n",
    "\n",
    "#Me quedo con la cuenta de nacimientos\n",
    "df3 = df3.groupby('id_hospital')['tipo_parto'].agg(len).reset_index()\n",
    "df3.rename(columns = {'tipo_parto' : 'partos_oct_2017'}, inplace = True)\n",
    "\n",
    "#Mergeo con los datos de hospitales\n",
    "df4 = pd.merge(df3,df2, on = 'id_hospital', how = 'inner')\n",
    "df4"
   ]
  },
  {
   "cell_type": "code",
   "execution_count": 65,
   "metadata": {},
   "outputs": [
    {
     "data": {
      "text/plain": [
       "1    B\n",
       "2    C\n",
       "Name: id_hospital, dtype: object"
      ]
     },
     "execution_count": 65,
     "metadata": {},
     "output_type": "execute_result"
    }
   ],
   "source": [
    "#Me quedo con aquellos que superen el promedio de nacimientos mensual\n",
    "\n",
    "df5 = df4.loc[df4['partos_oct_2017'] > df4['promedio_nac_mensual']]\n",
    "df5.loc[:, 'id_hospital']"
   ]
  },
  {
   "cell_type": "code",
   "execution_count": 94,
   "metadata": {},
   "outputs": [
    {
     "data": {
      "text/html": [
       "<div>\n",
       "<style scoped>\n",
       "    .dataframe tbody tr th:only-of-type {\n",
       "        vertical-align: middle;\n",
       "    }\n",
       "\n",
       "    .dataframe tbody tr th {\n",
       "        vertical-align: top;\n",
       "    }\n",
       "\n",
       "    .dataframe thead th {\n",
       "        text-align: right;\n",
       "    }\n",
       "</style>\n",
       "<table border=\"1\" class=\"dataframe\">\n",
       "  <thead>\n",
       "    <tr style=\"text-align: right;\">\n",
       "      <th></th>\n",
       "      <th>anio_nac</th>\n",
       "      <th>partos_por_cesarea_sept</th>\n",
       "      <th>Porcentaje de cambio vs anio anterior</th>\n",
       "    </tr>\n",
       "  </thead>\n",
       "  <tbody>\n",
       "    <tr>\n",
       "      <th>0</th>\n",
       "      <td>2016</td>\n",
       "      <td>5</td>\n",
       "      <td>NaN</td>\n",
       "    </tr>\n",
       "    <tr>\n",
       "      <th>1</th>\n",
       "      <td>2017</td>\n",
       "      <td>6</td>\n",
       "      <td>20.0</td>\n",
       "    </tr>\n",
       "  </tbody>\n",
       "</table>\n",
       "</div>"
      ],
      "text/plain": [
       "   anio_nac  partos_por_cesarea_sept  Porcentaje de cambio vs anio anterior\n",
       "0      2016                        5                                    NaN\n",
       "1      2017                        6                                   20.0"
      ]
     },
     "execution_count": 94,
     "metadata": {},
     "output_type": "execute_result"
    }
   ],
   "source": [
    "# Comparando el mes de Septiembre de 2017 indicar programáticamente si se incremento el\n",
    "# porcentaje (%) de cesáreas con respecto a ese mes del año 2016.\n",
    "\n",
    "#Me quedo con todos los nacimientos por cesarea dados en el mes de octubre\n",
    "nac_cesarea_sep = df1.loc[(df1['tipo_parto'] == 2) & (df1['mes_nac'] == 9)]\n",
    "nac_cesarea_sep.head(15)\n",
    "\n",
    "#Agrupo por año\n",
    "df6 = nac_cesarea_sep.groupby('anio_nac')['tipo_parto'].agg(len).reset_index()\n",
    "df6 = df6.rename(columns = {'tipo_parto' : 'partos_por_cesarea_sept'})\n",
    "\n",
    "df6['Porcentaje de cambio vs anio anterior'] = df6['partos_por_cesarea_sept'].pct_change()*100\n",
    "df6.head()"
   ]
  },
  {
   "cell_type": "code",
   "execution_count": null,
   "metadata": {},
   "outputs": [],
   "source": []
  }
 ],
 "metadata": {
  "kernelspec": {
   "display_name": "Python 2",
   "language": "python",
   "name": "python2"
  },
  "language_info": {
   "codemirror_mode": {
    "name": "ipython",
    "version": 2
   },
   "file_extension": ".py",
   "mimetype": "text/x-python",
   "name": "python",
   "nbconvert_exporter": "python",
   "pygments_lexer": "ipython2",
   "version": "2.7.15+"
  }
 },
 "nbformat": 4,
 "nbformat_minor": 2
}
